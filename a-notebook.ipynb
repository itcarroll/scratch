{
 "cells": [
  {
   "cell_type": "raw",
   "id": "a19fd451",
   "metadata": {},
   "source": [
    "---\n",
    "foo: bar\n",
    "---"
   ]
  },
  {
   "cell_type": "markdown",
   "id": "e6cf8bbd-d164-4b60-a6b8-3e1001e485a3",
   "metadata": {},
   "source": [
    "---\n",
    "foo: baz\n",
    "---"
   ]
  }
 ],
 "metadata": {
  "kernelspec": {
   "display_name": "Python 3 (ipykernel)",
   "language": "python",
   "name": "python3"
  },
  "language_info": {
   "codemirror_mode": {
    "name": "ipython",
    "version": 3
   },
   "file_extension": ".py",
   "mimetype": "text/x-python",
   "name": "python",
   "nbconvert_exporter": "python",
   "pygments_lexer": "ipython3",
   "version": "3.12.9"
  }
 },
 "nbformat": 4,
 "nbformat_minor": 5
}
