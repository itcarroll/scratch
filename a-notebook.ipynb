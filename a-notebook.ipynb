{
 "cells": [
  {
   "cell_type": "markdown",
   "id": "f1e62e7e-d72a-4586-8757-3df87154f179",
   "metadata": {},
   "source": [
    "---\n",
    "title: Test\n",
    "---"
   ]
  },
  {
   "cell_type": "raw",
   "id": "bb7f1d7b-9f9a-4cc2-b045-91e92d5b6245",
   "metadata": {},
   "source": [
    "---\n",
    "foo: bar\n",
    "---"
   ]
  }
 ],
 "metadata": {
  "kernelspec": {
   "display_name": "Python 3 (ipykernel)",
   "language": "python",
   "name": "python3"
  },
  "language_info": {
   "codemirror_mode": {
    "name": "ipython",
    "version": 3
   },
   "file_extension": ".py",
   "mimetype": "text/x-python",
   "name": "python",
   "nbconvert_exporter": "python",
   "pygments_lexer": "ipython3",
   "version": "3.12.9"
  }
 },
 "nbformat": 4,
 "nbformat_minor": 5
}
